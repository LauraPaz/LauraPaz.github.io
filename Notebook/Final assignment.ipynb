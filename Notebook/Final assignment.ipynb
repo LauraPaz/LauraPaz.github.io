{
 "cells": [
  {
   "cell_type": "markdown",
   "id": "f08484a4",
   "metadata": {},
   "source": [
    "**<html><p style=\"font-size:30px;\">Project Assignment B:</p></html>**<br>\n",
    "**<html><p style=\"font-size:45px;color:orange;\">NYC Restaurant Inspections</p></html>**<br>"
   ]
  },
  {
   "cell_type": "markdown",
   "id": "61792931",
   "metadata": {},
   "source": [
    "# 1. Motivation\n",
    "\n",
    "#### *What is your dataset?*\n",
    "\n",
    "Our dataset consists of results of restaurant inspections in New York and is produced by the Department of Health and Mental Hygiene (DOHMH). It contains every sustained or not yet adjudicated violation citation from every full or special program inspection conducted up to three years prior to the most recent inspection for restaurants and college cafeterias in an active status on the date of the data pull. For the purpose of this project the whole dataset was utilized, ranging from 2011 up to 2023. \n",
    "\n",
    "#### *Why did you choose this/these particular dataset(s)?*\n",
    "\n",
    "This particular dataset was selected for a set of reasons. First of all, the subject of the dataset, restaurant inspections, is relevant to everyday life and might be interesting to a great deal of people. New York, as the world’s most famous city and home to probably the greatest variety of ethnic cuisines in the world, has a reputation of an exciting restaurant scene that is a destination by itself. We believe that a showcasing of the evolution of restaurant quality through time and its distribution through different parts of the city would appeal not only to New Yorker’s, but also to potential visitors and even Instagram foodies from all over the world. \n",
    "\n",
    "Secondly, the dataset offers a lot of information about restaurant inspections, including type of cuisine, type and severity of violation, region, date etc., giving a clear picture of the actual situation. This plethora of information allows us to combine different elements of the data and transform them into valuable insights for the reader.\n",
    "\n",
    "#### *What was your goal for the end user's experience?*\n",
    "\n",
    "In the end, the aim of this article is to capture the reader’s interest and inform about the quality of restaurants in NY in a creative and inventive way, utilizing visualization tools and convening information in an interactive and original manner."
   ]
  },
  {
   "cell_type": "markdown",
   "id": "7167e0b3",
   "metadata": {},
   "source": [
    "# 2. Basic stats\n",
    "\n",
    "#### *Write about your choices in data cleaning and preprocessing.*\n",
    "\n",
    "Because this dataset is compiled from several large administrative data systems, it contains some illogical values that could be a result of data entry or transfer errors. Data may also be missing. For this reason certain elements were removed or rearranged to prepare the dataset before creating the plots. First of all, certain restaurants that are in the dataset have not been inspected yet and show no results. These restaurants are noted as having an inspection date of 1/1/1900 and were observed as outliers in the bar plot below before being removed. Even though the dataset ranges between 2011 - 2023, it can be seen in the bar plots below that there is a very small number of occurrences for the years prior to 2018. This is because old inspections stay on the list only as long as there is a new inspection in the same restaurant in the last three years. For this reason, for the purpose of this project we focused only on inspections that happened after 2018.\n",
    "\n",
    "Another source of outliers was the notation \"0\" in the borough column, meaning that some restaurants were not registered with a correct location and as a result they were removed. Some columns that did not convey any valuable information for this project, such as 'Community Board','Council District','Census Tract' etc. were also removed. The null values in the dataset were investigated in orded to find out their amount in each column and if they interfere with the results. The different types of restaurants/cuisines were specified and those categories that comprised of a very small number of entries were dropped, as they were to small to help reach meaningful conclusions.\n",
    "\n",
    "#### *Write a short section that discusses the dataset stats, containing key points/plots from your exploratory data analysis.*\n",
    "\n",
    "After the data were cleaned, the number of total occurrences per year and their seasonality were investigated in order to get an idea of progress through time. The number of investigations per borough was also calculated to look for spatial patterns regarding the distribution of investigations and violations. This information was combined with the number of restaurants of each different type of cuisine to get interesting insights about the concentration of violations in each category, the distribution of grades and the types of violations."
   ]
  },
  {
   "cell_type": "code",
   "execution_count": null,
   "id": "12d9b4ac",
   "metadata": {},
   "outputs": [],
   "source": [
    "import pandas as pd\n",
    "import matplotlib.pyplot as plt\n",
    "\n",
    "df_inspec = pd.read_csv('DOHMH_New_York_City_Restaurant_Inspection_Results.csv')\n",
    "\n",
    "# Show dimensions\n",
    "print(f'Our dataset has {df_inspec.shape[0]} rows and {df_inspec.shape[1]} columns\\n')\n",
    "\n",
    "# Show column info\n",
    "df_inspec.info()"
   ]
  },
  {
   "cell_type": "code",
   "execution_count": null,
   "id": "b11118a8",
   "metadata": {},
   "outputs": [],
   "source": [
    "# Summary statistics\n",
    "df_inspec.describe()"
   ]
  },
  {
   "cell_type": "markdown",
   "id": "282db61b",
   "metadata": {},
   "source": [
    "## 2.1. Removing outliers"
   ]
  },
  {
   "cell_type": "code",
   "execution_count": null,
   "id": "a2992862",
   "metadata": {},
   "outputs": [],
   "source": [
    "from matplotlib.pyplot import figure\n",
    "\n",
    "# Create column 'Year' from 'INSPECTION DATE'\n",
    "df_inspec['Year'] = [date.split('/')[-1] for date in df_inspec.loc[:,'INSPECTION DATE']]\n",
    "\n",
    "# Convert the 'Year' column to an integer type\n",
    "df_inspec['Year'] = df_inspec['Year'].astype(int)\n",
    "\n",
    "data = df_inspec.groupby('Year')['CAMIS'].count()\n",
    "\n",
    "figure(figsize=(4, 3), dpi=80)\n",
    "plt.bar(data.index, data.values, color='red', width=0.7)\n",
    "plt.title('Occurrences per year')\n",
    "plt.show()"
   ]
  },
  {
   "cell_type": "code",
   "execution_count": null,
   "id": "01904b65",
   "metadata": {},
   "outputs": [],
   "source": [
    "# Exclude the year 1900, we only want rows with accurate dates\n",
    "df_inspec_filtered = df_inspec[df_inspec['Year'] != 1900].copy()\n",
    "\n",
    "#Find the minimum and maximum year\n",
    "min_year = df_inspec_filtered['Year'].min()\n",
    "max_year = df_inspec_filtered['Year'].max()\n",
    "\n",
    "#Calculate the range of years\n",
    "year_range = max_year - min_year\n",
    "\n",
    "print(f\"Minimum year is {min_year}\")\n",
    "print(f\"Maximum year is {max_year}\")\n",
    "print(f\"The range of the years is {year_range}\")\n",
    "\n",
    "data = df_inspec_filtered.groupby('Year')['CAMIS'].count()\n",
    "\n",
    "figure(figsize=(4, 3), dpi=80)\n",
    "plt.bar(data.index, data.values, color='green', width=0.7)\n",
    "plt.title('Occurrences per year')\n",
    "plt.show()"
   ]
  },
  {
   "cell_type": "code",
   "execution_count": null,
   "id": "912ca464",
   "metadata": {},
   "outputs": [],
   "source": [
    "df_inspec_filtered = df_inspec[df_inspec['Year'] > 2018].copy()"
   ]
  },
  {
   "cell_type": "code",
   "execution_count": null,
   "id": "897e6534",
   "metadata": {},
   "outputs": [],
   "source": [
    "data = df_inspec_filtered.groupby('BORO')['CAMIS'].count()\n",
    "\n",
    "figure(figsize=(7, 3), dpi=80)\n",
    "plt.bar(data.index, data.values, color='red', width=0.7)\n",
    "plt.title('Occurrences per borough')\n",
    "plt.show()"
   ]
  },
  {
   "cell_type": "code",
   "execution_count": null,
   "id": "7f08080f",
   "metadata": {},
   "outputs": [],
   "source": [
    "# Exclude the BORO '0'\n",
    "df_inspec_filtered = df_inspec_filtered[df_inspec_filtered['BORO'] != '0'].copy()\n",
    "\n",
    "data = df_inspec_filtered.groupby('BORO')['CAMIS'].count()\n",
    "\n",
    "figure(figsize=(7, 3), dpi=80)\n",
    "plt.bar(data.index, data.values, color='green', width=0.7)\n",
    "plt.title('Occurrences per borough')\n",
    "plt.show()"
   ]
  },
  {
   "cell_type": "markdown",
   "id": "9da92420",
   "metadata": {},
   "source": [
    "## 2.2. Choosing relevant columns"
   ]
  },
  {
   "cell_type": "code",
   "execution_count": null,
   "id": "65f1ad48",
   "metadata": {},
   "outputs": [],
   "source": [
    "# List of columns we will not be working with\n",
    "useless_cols = ['Community Board','Council District','Census Tract','BIN','BBL','NTA','Location Point1']\n",
    "\n",
    "df_inspec_filtered.drop(useless_cols, axis=1, inplace=True)"
   ]
  },
  {
   "cell_type": "markdown",
   "id": "b635178b",
   "metadata": {},
   "source": [
    "## 2.2.1. Adding interesting columns"
   ]
  },
  {
   "cell_type": "code",
   "execution_count": null,
   "id": "ea7ad5a7",
   "metadata": {},
   "outputs": [],
   "source": [
    "import geopandas as gpd\n",
    "from shapely.geometry import Point\n",
    "\n",
    "neighborhoods = gpd.read_file('Neighborhood Boundaries.geojson')\n",
    "\n",
    "# Create a Point geometry column from the 'Latitude' and 'Longitude' columns\n",
    "geometry = [Point(xy) for xy in zip(df_inspec_filtered['Longitude'], df_inspec_filtered['Latitude'])]\n",
    "\n",
    "# Create a GeoDataFrame from the restaurants DataFrame and the Point geometry\n",
    "restaurants_gdf = gpd.GeoDataFrame(df_inspec_filtered, geometry=geometry, crs=neighborhoods.crs)\n",
    "\n",
    "# Perform the spatial join\n",
    "joined = gpd.sjoin(restaurants_gdf, neighborhoods, predicate='within')\n",
    "\n",
    "# Create a new column 'NEIGHBORHOOD' in the restaurants DataFrame with the neighborhood names\n",
    "df_inspec_filtered['NEIGHBORHOOD'] = joined['ntaname']"
   ]
  },
  {
   "cell_type": "code",
   "execution_count": null,
   "id": "dfdc4695",
   "metadata": {},
   "outputs": [],
   "source": [
    "# Parse inspection date\n",
    "df_inspec_filtered['INSPECTION DATE'] = pd.to_datetime(df_inspec['INSPECTION DATE'])\n",
    "\n",
    "# Extract yearmonth from parsed inspection date\n",
    "df_inspec_filtered['YEARMONTH'] = df_inspec_filtered['INSPECTION DATE'].dt.strftime('%Y-%m')"
   ]
  },
  {
   "cell_type": "code",
   "execution_count": null,
   "id": "46622ebf",
   "metadata": {},
   "outputs": [],
   "source": [
    "# Since we have a lot of null GRADES\n",
    "# we will add a column SCORE_GRADE that is based on the logic provided by the owner of the dataset\n",
    "import numpy as np\n",
    "\n",
    "def assign_grade(score):\n",
    "    if score < 14:\n",
    "        return 'A'\n",
    "    elif score >= 14 and score <= 27:\n",
    "        return 'B'\n",
    "    elif score >= 28:\n",
    "        return 'C'\n",
    "    else:\n",
    "        return None\n",
    "\n",
    "df_inspec_filtered['SCORE_GRADE'] = df_inspec_filtered['SCORE'].apply(assign_grade)"
   ]
  },
  {
   "cell_type": "code",
   "execution_count": null,
   "id": "421d2568",
   "metadata": {},
   "outputs": [],
   "source": [
    "# Distribution of restaurant types\n",
    "group = df_inspec_filtered.groupby('CUISINE DESCRIPTION')['CAMIS'].count().sort_values(ascending=False)\n",
    "display(group)"
   ]
  },
  {
   "cell_type": "code",
   "execution_count": null,
   "id": "5171e668",
   "metadata": {},
   "outputs": [],
   "source": [
    "# Distribution of grades\n",
    "group = df_inspec_filtered.groupby('GRADE')['CAMIS'].count().sort_values(ascending=False)\n",
    "display(group)\n",
    "criticalgraph = df_inspec_filtered[[\"CRITICAL FLAG\", \"GRADE\"]]\n",
    "critnona = criticalgraph.dropna()\n",
    "critnona[\"GRADE\"].value_counts().plot(kind=\"pie\")"
   ]
  },
  {
   "cell_type": "markdown",
   "id": "78d28401",
   "metadata": {},
   "source": [
    "In this pie-chart it is evident that the vast majority of inspections end up in an A-grade evaluation. Even though pie charts can sometimes be a little tricky to interpret, big differences like the one illustrated here can easily be higlighted with this type of visualization."
   ]
  },
  {
   "cell_type": "code",
   "execution_count": null,
   "id": "2917fd95",
   "metadata": {},
   "outputs": [],
   "source": [
    "# Distribution of calculated grades\n",
    "group = df_inspec_filtered.groupby('SCORE_GRADE')['CAMIS'].count().sort_values(ascending=False)\n",
    "display(group)"
   ]
  },
  {
   "cell_type": "code",
   "execution_count": null,
   "id": "b9de35d3",
   "metadata": {},
   "outputs": [],
   "source": [
    "import seaborn as sns\n",
    "\n",
    "# KDE plot of the score\n",
    "fig, ax = plt.subplots()\n",
    "\n",
    "sns.kdeplot(df_inspec_filtered[\"SCORE\"], fill=True, ax=ax)\n",
    "\n",
    "fig.suptitle(\"Inspection score density\")\n",
    "\n",
    "plt.show()"
   ]
  },
  {
   "cell_type": "markdown",
   "id": "03e19aab",
   "metadata": {},
   "source": [
    "The probability density plot for each possible score successfully illustrates that most inspections end up with a score between 0 and 15 and that only a small percentage ends up having very big score that can lead to a closure."
   ]
  },
  {
   "cell_type": "code",
   "execution_count": null,
   "id": "cd4206df",
   "metadata": {},
   "outputs": [],
   "source": [
    "# Unique actions\n",
    "actions = df_inspec_filtered['ACTION'].unique()\n",
    "actions"
   ]
  },
  {
   "cell_type": "code",
   "execution_count": null,
   "id": "1aaff9d1",
   "metadata": {},
   "outputs": [],
   "source": [
    "# Top 20 Violation Descriptions\n",
    "group = df_inspec_filtered.groupby('VIOLATION DESCRIPTION')['CAMIS'].count().sort_values(ascending=False)[:20]\n",
    "display(group)"
   ]
  },
  {
   "cell_type": "markdown",
   "id": "6d52f81a",
   "metadata": {},
   "source": [
    "## 2.3. Season plots"
   ]
  },
  {
   "cell_type": "code",
   "execution_count": null,
   "id": "fa94c4de",
   "metadata": {},
   "outputs": [],
   "source": [
    "# Create a new column 'season' based on the inspection date\n",
    "df_inspec_filtered['season'] = pd.cut(\n",
    "    x=df_inspec_filtered['INSPECTION DATE'].dt.month,\n",
    "    bins=[0, 3, 6, 9, 12],\n",
    "    labels=['winter', 'spring', 'summer', 'fall'],\n",
    "    include_lowest=True\n",
    ")\n",
    "# Group the closed restaurants by season and count the number of closed restaurants\n",
    "season_counts = df_inspec_filtered.groupby('season').size()\n",
    "\n",
    "# Create a bar plot of the number of closed restaurants by season\n",
    "season_counts.plot(kind='bar', rot=0, color='dodgerblue')\n",
    "plt.xlabel('Season')\n",
    "plt.ylabel('Number of Inspections')\n",
    "plt.title('Number of Inspections by Season')\n",
    "plt.show()"
   ]
  },
  {
   "cell_type": "markdown",
   "id": "3b76a1a4",
   "metadata": {},
   "source": [
    "This barplot shows that in the years in question, the season in which a restaurant has the highest chance of being inspected is the winter, with the rest of the seasons being relatively the same. It should be taken into account that the interruption caused to everyday life by the pandemic and the quarantine may give a false impression and create a pattern that does not correspond to a normal year."
   ]
  },
  {
   "cell_type": "code",
   "execution_count": null,
   "id": "0b2bde04",
   "metadata": {},
   "outputs": [],
   "source": [
    "# Create new dataframe with only closed restaurants\n",
    "closed_restaurants_df = df_inspec_filtered.loc[df_inspec_filtered['ACTION'] == 'Establishment Closed by DOHMH. Violations were cited in the following area(s) and those requiring immediate action were addressed.'].sort_values('Year', ascending=True)\n",
    "\n",
    "# Create a new column 'season' based on the inspection date\n",
    "closed_restaurants_df['season'] = pd.cut(\n",
    "    x=closed_restaurants_df['INSPECTION DATE'].dt.month,\n",
    "    bins=[0, 3, 6, 9, 12],\n",
    "    labels=['winter', 'spring', 'summer', 'fall'],\n",
    "    include_lowest=True\n",
    ")\n",
    "# Group the closed restaurants by season and count the number of closed restaurants\n",
    "season_counts = closed_restaurants_df.groupby('season').size()\n",
    "\n",
    "# Create a bar plot of the number of closed restaurants by season\n",
    "season_counts.plot(kind='bar', rot=0, color='tomato')\n",
    "plt.xlabel('Season')\n",
    "plt.ylabel('Number of Closed Restaurants')\n",
    "plt.title('Number of Closed Restaurants by Season')\n",
    "plt.show()\n"
   ]
  },
  {
   "cell_type": "code",
   "execution_count": null,
   "id": "075897c5",
   "metadata": {},
   "outputs": [],
   "source": [
    "# Season plot for each year\n",
    "\n",
    "# Create a new column 'season' based on the inspection date\n",
    "closed_restaurants_df['season'] = pd.cut(\n",
    "    x=closed_restaurants_df['INSPECTION DATE'].dt.month,\n",
    "    bins=[0, 3, 6, 9, 12],\n",
    "    labels=['winter', 'spring', 'summer', 'fall'],\n",
    "    include_lowest=True\n",
    ")\n",
    "\n",
    "# Group the closed restaurants by year and season and count the number of closed restaurants\n",
    "year_season_counts = closed_restaurants_df.groupby(['Year', 'season']).size()\n",
    "\n",
    "# Get a list of unique years in the data\n",
    "years = year_season_counts.index.get_level_values('Year').unique()\n",
    "\n",
    "# Reindex the year_season_counts DataFrame to include all seasons for all years\n",
    "all_seasons = pd.MultiIndex.from_product([years, ['winter', 'spring', 'summer', 'fall']], names=['Year', 'season'])\n",
    "year_season_counts = year_season_counts.reindex(all_seasons, fill_value=0)\n",
    "\n",
    "# Create a separate bar plot for each year, with two plots per row\n",
    "num_rows = len(years) // 2 + len(years) % 2\n",
    "fig, axs = plt.subplots(num_rows, 2, figsize=(8, 2*num_rows), squeeze=False)\n",
    "for i, year in enumerate(years):\n",
    "    row = i // 2\n",
    "    col = i % 2\n",
    "    year_counts = year_season_counts.loc[year]\n",
    "    year_counts.plot(kind='bar', rot=0, color='tomato', ax=axs[row, col])\n",
    "    axs[row, col].set_xlabel('Season')\n",
    "    axs[row, col].set_ylabel('Number of Closings')\n",
    "    axs[row, col].set_title(f'Number of Closed Restaurants on {year}')\n",
    "\n",
    "plt.tight_layout()\n",
    "plt.show()\n"
   ]
  },
  {
   "cell_type": "markdown",
   "id": "c8db498f",
   "metadata": {},
   "source": [
    "## 2.4. Boxplots of score by cuisine type"
   ]
  },
  {
   "cell_type": "code",
   "execution_count": null,
   "id": "d2263a74",
   "metadata": {},
   "outputs": [],
   "source": [
    "# Let us look at the scores by cuisine\n",
    "score_cuisine = pd.concat([df_inspec_filtered['CUISINE DESCRIPTION'], df_inspec_filtered['SCORE']], axis=1)\n",
    "\n",
    "# Count occurrences of each cuisine type\n",
    "cuisine_counts = score_cuisine['CUISINE DESCRIPTION'].value_counts()\n",
    "\n",
    "# Sort cuisine types by count in descending order\n",
    "cuisine_order = cuisine_counts.sort_values(ascending=False).index.tolist()\n",
    "\n",
    "# Create boxplot with sorted cuisine types\n",
    "f, ax = plt.subplots(figsize=(16, 8))\n",
    "fig = sns.boxplot(x='CUISINE DESCRIPTION', y='SCORE', data=score_cuisine, order=cuisine_order)\n",
    "plt.xticks(rotation=90)\n",
    "\n",
    "plt.show()"
   ]
  },
  {
   "cell_type": "markdown",
   "id": "59871087",
   "metadata": {},
   "source": [
    "In this very nice boxplot, the average score of each type of cuisine is illustrated. The types of cuisine are arranged alphabetically and the distribution of their score, along with the average ar shown. Some outliers with very high scores indicate that in some restaurants more than a handful of serious violations were recorded."
   ]
  },
  {
   "cell_type": "markdown",
   "id": "2299ddeb",
   "metadata": {},
   "source": [
    "## 2.5. Count of grades per borough"
   ]
  },
  {
   "cell_type": "code",
   "execution_count": null,
   "id": "c68db79f",
   "metadata": {},
   "outputs": [],
   "source": [
    "sns.countplot(y='GRADE',data=df_inspec_filtered,hue='BORO',palette='Greens_d',order=['A','B','C','N','P','Z'])\n",
    "plt.style.use(\"fivethirtyeight\")"
   ]
  },
  {
   "cell_type": "markdown",
   "id": "0e280769",
   "metadata": {},
   "source": [
    "In this barplot we can see that distribution of grades in each borough is relatively similar, with the absolute number of each grading in each borough corresponding with the total number of inspections in each borough."
   ]
  },
  {
   "cell_type": "markdown",
   "id": "f361144d",
   "metadata": {},
   "source": [
    "# 3. Data Analysis \n",
    "\n",
    "#### *Describe your data analysis and explain what you've learned about the dataset.*\n",
    "\n",
    "The first thing we looked for is the distribution of inspections among districts. New York is divided in \"boroughs\", so with the help of a relevant geojson file we counted the number of inspections, types of violations and rates of violations and closures in each borough. The results of this analysis indicate that the absolute number of inspections and violations vary greatly between boroughs, with more than ten times more inspections taking place in Manhattan compared to Staten Island. The rate at which inspections end up having a negative outcome was found to be very similar between boroughs, and very high in general, being generally greater than 98%. It should be noted that this includes all types of possible violations, some of them being a bit trivial, e.g. not having a posted \"Wash Your Hands\" sign in the restroom. The number of inspections ending up in the closure of a restaurant was also calculated for each borough, and the rate of closures per inspection was found to be greater in Brooklyn than other areas.\n",
    "\n",
    "A closer look was taken on the grading system, the score achieved by each restaurant and the types of violations. In general, most inspections end up in an A grade, which is the best possible grade and means that no reinspection is needed for the restaurant. The probability density of each score was calculated, again strengthening the conclusion that even though most inspections end up finding violations, the vast majority ascore less than 13 points, meaning that the violations were not very important and that they receive an A grade.\n",
    "\n",
    "This analysis about the spatial distribution of inspections was taken one step further by repeating the previous steps for smaller areas (neighborhoods), in order to get a more detailed opinion about locations of violations. The \"Midtown-Midtown South\" neighborhood of Manhattan sticks out at first, with significantly more violations occurring there than any other neighborhood in NY. Upon a closer inspection however, it is observed that the rate of inspections ending up finding violations is not greater there than the rest of the city, leading to the conclusion that this neighborhood is probably dense with restaurants and therefore sees more inspections in general. Regarding inspections that end up in closures, it is notable that in the \"Grymes Hill-Clifton-Fox Hills\" neighborhood in Staten Island almost 20% of inspections ended up in the closure of the restaurant! \n",
    "\n",
    "After that, we focused on how inspections progressed through time for the period of interest. Here the most important, and admittedly expected, thing, is the total absence of inspections during the peak of the corona-virus pandemic. It is a fact that New York was hit very hard by COVID-19, being the city facing the most difficulties in the USA. Between the middle of March 2020 and July 2021, for the greatest part of which time restaurants were closed, almost no inspections took place, leaving a huge gap in the calendar analysis. In an attempt to compensate(?) for the lost time, inspections skyrocketed the following year, with more than three-times more inspections taking place in 2022 than 2019! This increase in the number of inspections holds true for all types of cuisines, with hunderds of inspections occuring almost every day in 2022 and even more moving into 2023. Looking in the number of inspections per season, we found that there are significantly more inspections taking place in the winter compared to other seasons, with the number of closures being proportional to the total inspections. The types of violations were analysed to see their progression through time. The result was that generally, the number of each type of violation spotted is proportional to the total number of inspections.\n",
    "\n",
    "Moving forward, the distribution of inspections, violations and grades between the different types of cuisines was investigated. The distribution of grades was found to be relatively similar for all types of cuisines, with the majority receiving an A in most types. Chinese, Indian, Carribean and Jewish/Kosher restaurants have the lowest rate of A-grades among cuisines, with Donuts and Hamburgers standing out with the highest percentage of A-grades. \n"
   ]
  },
  {
   "cell_type": "markdown",
   "id": "f4c6fc1f",
   "metadata": {},
   "source": [
    "## 4. Genre\n",
    "\n",
    "The Genre that was chosen for this project is the Magazine Style genre. Like in the previous assignment, This form of narrative visualization was chosen because it allows great freedom in organizing the visuals and accompanying text in a way that is easy to read and most importantly is familiar to the reader. In terms of visual narrative, the article is characterised by a Consistent Visual Platform and Zooming can be used to highlight some details, e.g. in the choropleth maps. Some Motion is also introduced with gifs to make the narration lighter and easier to follow. The Narrative Structure is Linear, with a clear order of the elements that are analyzed, while Interactivity is strongly present with interactive bar plots and scatter maps. Messaging is also achieved by having an introductory text and some accompanying captions to gifs that help communication with the reader."
   ]
  },
  {
   "cell_type": "markdown",
   "id": "7e31d7e5",
   "metadata": {},
   "source": [
    "## 5. Visualizations"
   ]
  },
  {
   "cell_type": "markdown",
   "id": "8d3ee427",
   "metadata": {},
   "source": [
    "### 5.1.1. Boroughs Choropleth"
   ]
  },
  {
   "cell_type": "code",
   "execution_count": null,
   "id": "c0b1f93c",
   "metadata": {},
   "outputs": [],
   "source": [
    "# All the maps shown should have the same center\n",
    "NYC_CENTER = {\"lat\": 40.718678, \"lon\": -73.988798}"
   ]
  },
  {
   "cell_type": "code",
   "execution_count": null,
   "id": "3637c9e0",
   "metadata": {},
   "outputs": [],
   "source": [
    "# Dataframe with negative actions\n",
    "df_negative_outcome = df_inspec_filtered.loc[~df_inspec_filtered['ACTION'].isin([\n",
    "    'No violations were recorded at the time of this inspection.',\n",
    "    'Establishment re-opened by DOHMH.'])].copy()\n",
    "\n",
    "# Dataframe with restaurant closures\n",
    "df_closures = df_inspec_filtered.loc[df_inspec_filtered['ACTION'].isin([\n",
    "    'Establishment Closed by DOHMH. Violations were cited in the following area(s) and those requiring immediate action were addressed.',\n",
    "    'Establishment re-closed by DOHMH.'])].copy()"
   ]
  },
  {
   "cell_type": "code",
   "execution_count": null,
   "id": "d0e06e90",
   "metadata": {
    "scrolled": false
   },
   "outputs": [],
   "source": [
    "import plotly.express as px\n",
    "import json\n",
    "with open('Borough Boundaries.geojson') as f:\n",
    "    geodata = json.load(f)\n",
    "    \n",
    "map_data = df_negative_outcome.groupby('BORO')['CAMIS'].count().reset_index()\n",
    "\n",
    "# Make the map\n",
    "fig = px.choropleth_mapbox(map_data, geojson=geodata, locations='BORO', color='CAMIS',\n",
    "                           featureidkey=\"properties.boro_name\",\n",
    "                           color_continuous_scale=\"RdYlGn_r\",\n",
    "                           range_color=(map_data.CAMIS.min(), map_data.CAMIS.max()),\n",
    "                           mapbox_style=\"carto-positron\",\n",
    "                           zoom=9, center = NYC_CENTER,\n",
    "                           opacity=0.5\n",
    "                          )\n",
    "fig.update_layout(margin={\"r\":0,\"t\":0,\"l\":0,\"b\":0}, coloraxis_colorbar=dict(title='Negative outcome count'))\n",
    "fig.show()"
   ]
  },
  {
   "cell_type": "code",
   "execution_count": null,
   "id": "ce41370e",
   "metadata": {},
   "outputs": [],
   "source": [
    "#map_data\n",
    "df_inspec_filtered.groupby('BORO')['CAMIS'].count().reset_index()"
   ]
  },
  {
   "cell_type": "code",
   "execution_count": null,
   "id": "09cb9c11",
   "metadata": {},
   "outputs": [],
   "source": [
    "total_restaurants = [len(df_inspec_filtered[df_inspec_filtered['BORO']==boro]) for boro in map_data['BORO']]\n",
    "\n",
    "# Adjust data for total of restaurants\n",
    "map_data['ADJUSTED'] = map_data['CAMIS']/total_restaurants\n",
    "\n",
    "\n",
    "# Make the map\n",
    "fig = px.choropleth_mapbox(map_data, geojson=geodata, locations='BORO', color='ADJUSTED',\n",
    "                           featureidkey=\"properties.boro_name\",\n",
    "                           color_continuous_scale=\"RdYlGn_r\",\n",
    "                           range_color=(map_data.ADJUSTED.min(), map_data.ADJUSTED.max()),\n",
    "                           mapbox_style=\"carto-positron\",\n",
    "                           zoom=9, center = NYC_CENTER,\n",
    "                           opacity=0.5\n",
    "                          )\n",
    "fig.update_layout(margin={\"r\":0,\"t\":0,\"l\":0,\"b\":0}, coloraxis_colorbar=dict(title='Negative outcome rate'))\n",
    "fig.show()"
   ]
  },
  {
   "cell_type": "code",
   "execution_count": null,
   "id": "55809b6a",
   "metadata": {},
   "outputs": [],
   "source": [
    "import plotly.express as px\n",
    "import json\n",
    "with open('Borough Boundaries.geojson') as f:\n",
    "    geodata = json.load(f)\n",
    "    \n",
    "map_data = df_closures.groupby('BORO')['CAMIS'].count().reset_index()\n",
    "\n",
    "# Make the map\n",
    "fig = px.choropleth_mapbox(map_data, geojson=geodata, locations='BORO', color='CAMIS',\n",
    "                           featureidkey=\"properties.boro_name\",\n",
    "                           color_continuous_scale=\"RdYlGn_r\",\n",
    "                           range_color=(map_data.CAMIS.min(), map_data.CAMIS.max()),\n",
    "                           mapbox_style=\"carto-positron\",\n",
    "                           zoom=9, center = NYC_CENTER,\n",
    "                           opacity=0.5\n",
    "                          )\n",
    "fig.update_layout(margin={\"r\":0,\"t\":0,\"l\":0,\"b\":0}, coloraxis_colorbar=dict(title='Closures count'))\n",
    "fig.show()"
   ]
  },
  {
   "cell_type": "code",
   "execution_count": null,
   "id": "891a8827",
   "metadata": {
    "scrolled": false
   },
   "outputs": [],
   "source": [
    "total_restaurants = [len(df_inspec_filtered[df_inspec_filtered['BORO']==boro]) for boro in map_data['BORO']]\n",
    "\n",
    "# Adjust data for total of restaurants\n",
    "map_data['ADJUSTED'] = map_data['CAMIS']/total_restaurants\n",
    "\n",
    "# Make the map\n",
    "fig = px.choropleth_mapbox(map_data, geojson=geodata, locations='BORO', color='ADJUSTED',\n",
    "                           featureidkey=\"properties.boro_name\",\n",
    "                           color_continuous_scale=\"RdYlGn_r\",\n",
    "                           range_color=(map_data.ADJUSTED.min(), map_data.ADJUSTED.max()),\n",
    "                           mapbox_style=\"carto-positron\",\n",
    "                           zoom=9, center = NYC_CENTER,\n",
    "                           opacity=0.5\n",
    "                          )\n",
    "fig.update_layout(margin={\"r\":0,\"t\":0,\"l\":0,\"b\":0}, coloraxis_colorbar=dict(title='Closures rate'))\n",
    "fig.show()"
   ]
  },
  {
   "cell_type": "markdown",
   "id": "80b5c26c",
   "metadata": {},
   "source": [
    "The choropleth maps above illustrate the number of inspections with negative outcome (meaning those that end up finding even one violation), the rate at which these happen, the number of inspections that end up in the closure of the reastaurant, and again the rate at which closure occur. This type of visualization is ideal for showcasing the differences beetween districts, as it get the message through to the reader very quickly through the use of colors.\n",
    "\n",
    "The same applies to the maps below, only this time the city is divided into smaller part, i.e. neighborhoods. This gives an even clearer picture of reality, since the boroughs are too big and what is true for one part may not be for another. Through the use of neighborhoods, one can easily see the results of inspections in a very specific part of the city and form an opinion about the level of restaurants there."
   ]
  },
  {
   "cell_type": "markdown",
   "id": "6befc627",
   "metadata": {},
   "source": [
    "### 5.1.2. Neighborhoods Choropleth"
   ]
  },
  {
   "cell_type": "code",
   "execution_count": null,
   "id": "7a8b12f3",
   "metadata": {},
   "outputs": [],
   "source": [
    "import plotly.express as px\n",
    "\n",
    "map_data = df_negative_outcome.groupby('NEIGHBORHOOD')['CAMIS'].count().reset_index()\n",
    "\n",
    "# Make the map\n",
    "fig = px.choropleth_mapbox(map_data, geojson=neighborhoods, locations='NEIGHBORHOOD', color='CAMIS',\n",
    "                           featureidkey=\"properties.ntaname\",\n",
    "                           color_continuous_scale=\"RdYlGn_r\",\n",
    "                           range_color=(map_data.CAMIS.min(), map_data.CAMIS.max()),\n",
    "                           mapbox_style=\"carto-positron\",\n",
    "                           zoom=9, center = NYC_CENTER,\n",
    "                           opacity=0.5\n",
    "                          )\n",
    "fig.update_layout(margin={\"r\":0,\"t\":0,\"l\":0,\"b\":0}, coloraxis_colorbar=dict(title='Negative outcome count'))\n",
    "fig.show()"
   ]
  },
  {
   "cell_type": "code",
   "execution_count": null,
   "id": "15a6b001",
   "metadata": {},
   "outputs": [],
   "source": [
    "total_restaurants = [len(df_inspec_filtered[df_inspec_filtered['NEIGHBORHOOD']==n]) for n in map_data['NEIGHBORHOOD']]\n",
    "\n",
    "# Adjust data for total of restaurants\n",
    "map_data['ADJUSTED'] = map_data['CAMIS']/total_restaurants\n",
    "\n",
    "\n",
    "# Make the map\n",
    "fig = px.choropleth_mapbox(map_data, geojson=neighborhoods, locations='NEIGHBORHOOD', color='ADJUSTED',\n",
    "                           featureidkey=\"properties.ntaname\",\n",
    "                           color_continuous_scale=\"RdYlGn_r\",\n",
    "                           range_color=(map_data.ADJUSTED.min(), map_data.ADJUSTED.max()),\n",
    "                           mapbox_style=\"carto-positron\",\n",
    "                           zoom=9, center = NYC_CENTER,\n",
    "                           opacity=0.5\n",
    "                          )\n",
    "fig.update_layout(margin={\"r\":0,\"t\":0,\"l\":0,\"b\":0}, coloraxis_colorbar=dict(title='Negative outcome rate'))\n",
    "fig.show()"
   ]
  },
  {
   "cell_type": "code",
   "execution_count": null,
   "id": "b0150354",
   "metadata": {},
   "outputs": [],
   "source": [
    "import plotly.express as px\n",
    "\n",
    "map_data = df_closures.groupby('NEIGHBORHOOD')['CAMIS'].count().reset_index()\n",
    "\n",
    "# Make the map\n",
    "fig = px.choropleth_mapbox(map_data, geojson=neighborhoods, locations='NEIGHBORHOOD', color='CAMIS',\n",
    "                           featureidkey=\"properties.ntaname\",\n",
    "                           color_continuous_scale=\"RdYlGn_r\",\n",
    "                           range_color=(map_data.CAMIS.min(), map_data.CAMIS.max()),\n",
    "                           mapbox_style=\"carto-positron\",\n",
    "                           zoom=9, center = NYC_CENTER,\n",
    "                           opacity=0.5\n",
    "                          )\n",
    "fig.update_layout(margin={\"r\":0,\"t\":0,\"l\":0,\"b\":0}, coloraxis_colorbar=dict(title='Closures count'))\n",
    "fig.show()"
   ]
  },
  {
   "cell_type": "code",
   "execution_count": null,
   "id": "be122748",
   "metadata": {
    "scrolled": false
   },
   "outputs": [],
   "source": [
    "total_restaurants = [len(df_inspec_filtered[df_inspec_filtered['NEIGHBORHOOD']==n]) for n in map_data['NEIGHBORHOOD']]\n",
    "\n",
    "# Adjust data for total of restaurants\n",
    "map_data['ADJUSTED'] = map_data['CAMIS']/total_restaurants\n",
    "\n",
    "# Make the map\n",
    "fig = px.choropleth_mapbox(map_data, geojson=neighborhoods, locations='NEIGHBORHOOD', color='ADJUSTED',\n",
    "                           featureidkey=\"properties.ntaname\",\n",
    "                           color_continuous_scale=\"RdYlGn_r\",\n",
    "                           range_color=(map_data.ADJUSTED.min(), map_data.ADJUSTED.max()),\n",
    "                           mapbox_style=\"carto-positron\",\n",
    "                           zoom=9, center = NYC_CENTER,\n",
    "                           opacity=0.5\n",
    "                          )\n",
    "fig.update_layout(margin={\"r\":0,\"t\":0,\"l\":0,\"b\":0}, coloraxis_colorbar=dict(title='Closures rate'))\n",
    "fig.show()"
   ]
  },
  {
   "cell_type": "markdown",
   "id": "c0311d7f",
   "metadata": {},
   "source": [
    "### 5.1.3. Cuisine Scattermap"
   ]
  },
  {
   "cell_type": "code",
   "execution_count": null,
   "id": "58b24830",
   "metadata": {
    "scrolled": false
   },
   "outputs": [],
   "source": [
    "import plotly.express as px\n",
    "import math\n",
    "import plotly.graph_objects as go\n",
    "import pandas as pd\n",
    "\n",
    "df_recent = df_inspec_filtered[(df_inspec_filtered['Year'] == 2023)]\n",
    "\n",
    "focuscuisines = df_recent.groupby('CUISINE DESCRIPTION')['CAMIS'].count().sort_values(ascending=False)[:10].index\n",
    "\n",
    "for cuisine in focuscuisines:\n",
    "\n",
    "    df_focus = df_recent[df_recent['CUISINE DESCRIPTION']==cuisine].sort_values('SCORE_GRADE', ascending=True)\n",
    "\n",
    "    fig = px.scatter_mapbox(df_focus, lat='Latitude', lon='Longitude', color='SCORE_GRADE',\n",
    "                            color_discrete_map={\n",
    "                                'A': '#636EFA',\n",
    "                                'B': '#00CC96',\n",
    "                                'C': '#FFA15A'\n",
    "                             },\n",
    "                            hover_data=['DBA'],\n",
    "                            mapbox_style=\"carto-positron\", \n",
    "                            zoom=9, center = NYC_CENTER)\n",
    "\n",
    "    fig.update_layout(\n",
    "        margin=dict(l=10, r=30, t=10, b=10),\n",
    "        autosize=False,\n",
    "        width=550,\n",
    "        height=400,\n",
    "        legend=dict(\n",
    "            x=0.01,\n",
    "            y=0.99,\n",
    "            traceorder='normal',\n",
    "            font=dict(\n",
    "                family='sans-serif',\n",
    "                size=12,\n",
    "                color='black'\n",
    "            ),\n",
    "            bgcolor='rgba(255,255,255, 0.6)'\n",
    "        )\n",
    "    )\n",
    "    \n",
    "    display(cuisine)\n",
    "    fig.show()\n",
    "    #fig.write_html('output/grademaps/'+cuisine.lower().replace(\"/\", \"_\")+'.html')"
   ]
  },
  {
   "cell_type": "markdown",
   "id": "9760bbb5",
   "metadata": {},
   "source": [
    "This interactive map can be very useful when being interested in a specific cuisine type. One can easily see the number of restaurants of each category that received each grade and focus on the part of the city that interests him/her, no matter how big or small it is. Note that the map offers the possibility to find exactly the position of each restaurant in the city so that you can directly find the address of a place with a good grade (or bad if you want to see how the restaurant where you ate yesterday performs)!"
   ]
  },
  {
   "cell_type": "markdown",
   "id": "f3f644f4",
   "metadata": {},
   "source": [
    "## 5.2. Calendar plots"
   ]
  },
  {
   "cell_type": "code",
   "execution_count": null,
   "id": "5e741c32",
   "metadata": {},
   "outputs": [],
   "source": [
    "import calplot\n",
    "\n",
    "# Filter the data and choose the cuisine we prefer, like (e.g., \"Pizza\")\n",
    "preferred_cuisine = df_inspec_filtered[df_inspec_filtered['CUISINE DESCRIPTION'] == 'Pizza'].copy()\n",
    "\n",
    "# Create a new data frame with a DateTimeIndex and a count of inspections per day\n",
    "df_calendar = preferred_cuisine.groupby(pd.to_datetime(preferred_cuisine['INSPECTION DATE'])).count()['CUISINE DESCRIPTION'].to_frame()\n",
    "\n",
    "# Create the calendar plot\n",
    "calplot.calplot(df_calendar['CUISINE DESCRIPTION'], cmap='YlGn', yearlabel_kws={'fontname':'sans-serif'})\n",
    "\n",
    "plt.show()"
   ]
  },
  {
   "cell_type": "code",
   "execution_count": null,
   "id": "21c68c6a",
   "metadata": {},
   "outputs": [],
   "source": [
    "# for every types of restaurants:\n",
    "\n",
    "# Filter the data for all cuisines\n",
    "all_cuisines = df_inspec_filtered.copy()\n",
    "\n",
    "# Create a new data frame with a DateTimeIndex and a count of inspections per day\n",
    "df_calendar = all_cuisines.groupby(pd.to_datetime(all_cuisines['INSPECTION DATE'])).count()['CUISINE DESCRIPTION'].to_frame()\n",
    "\n",
    "# Create the calendar plot\n",
    "calplot.calplot(df_calendar['CUISINE DESCRIPTION'], cmap='YlGn', yearlabel_kws={'fontname':'sans-serif'})"
   ]
  },
  {
   "cell_type": "code",
   "execution_count": null,
   "id": "a248248d",
   "metadata": {},
   "outputs": [],
   "source": [
    "# for the closed restaurants:\n",
    "\n",
    "# Create new dataframe with only closed restaurants\n",
    "closed_restaurants_df = df_inspec_filtered.loc[df_inspec_filtered['ACTION'] == 'Establishment Closed by DOHMH. Violations were cited in the following area(s) and those requiring immediate action were addressed.'].sort_values('Year', ascending=True)\n",
    "\n",
    "# Create a new data frame with a DateTimeIndex and a count of inspections per day\n",
    "df_calendar_closed_restaurants = closed_restaurants_df.groupby(pd.to_datetime(closed_restaurants_df['INSPECTION DATE'])).count()['CUISINE DESCRIPTION'].to_frame()\n",
    "\n",
    "# Create the calendar plot\n",
    "calplot.calplot(df_calendar['CUISINE DESCRIPTION'], cmap='YlGn', yearlabel_kws={'fontname':'sans-serif'})\n",
    "\n",
    "plt.show()"
   ]
  },
  {
   "cell_type": "markdown",
   "id": "00d9ee57",
   "metadata": {},
   "source": [
    "The calendar plots above work wonders in showing the big gap between March 2020 and July 2021 due to the pandemic. It is also easy to see how the colored squares darken progressively moving into 2023, illustrating how the occurrences of inspections increase after the quarantine, to levels greater than before the pandemic. "
   ]
  },
  {
   "cell_type": "markdown",
   "id": "4ffa6876",
   "metadata": {},
   "source": [
    "## 5.3. Barplots"
   ]
  },
  {
   "cell_type": "code",
   "execution_count": null,
   "id": "57b2a7e6",
   "metadata": {},
   "outputs": [],
   "source": [
    "# Number of each grade by cuisine type\n",
    "focus_types = df_inspec_filtered.groupby('CUISINE DESCRIPTION')['CAMIS'].count().sort_values(ascending=False)[:20].index\n",
    "df_focus = df_inspec_filtered[df_inspec_filtered['CUISINE DESCRIPTION'].isin(focus_types)]\n",
    "\n",
    "df_stacked_barplot = df_focus.groupby(['CUISINE DESCRIPTION','SCORE_GRADE'])['CAMIS'].count().reset_index()\n",
    "\n",
    "fig = px.bar(df_stacked_barplot, x='CUISINE DESCRIPTION', y='CAMIS', color='SCORE_GRADE', \n",
    "             color_discrete_map={\n",
    "                'A': '#636EFA',\n",
    "                'B': '#00CC96',\n",
    "                'C': '#FFA15A'\n",
    "             },\n",
    "             title='Grade count by cuisine')\n",
    "fig.show()"
   ]
  },
  {
   "cell_type": "code",
   "execution_count": null,
   "id": "97c6ddc0",
   "metadata": {},
   "outputs": [],
   "source": [
    "# Distribution of grades by cuisine type\n",
    "\n",
    "focus_types = df_inspec_filtered.groupby('CUISINE DESCRIPTION')['CAMIS'].count().sort_values(ascending=False)[:20].index\n",
    "df_focus = df_inspec_filtered[df_inspec_filtered['CUISINE DESCRIPTION'].isin(focus_types)]\n",
    "\n",
    "\n",
    "df_stacked_barplot = df_focus.groupby(['CUISINE DESCRIPTION','SCORE_GRADE'])['CAMIS'].count().reset_index()\n",
    "\n",
    "total_restaurants = df_focus.groupby('CUISINE DESCRIPTION').size().loc[focus_types].to_frame(name='count')\n",
    "df_stacked_barplot['RATE'] = df_stacked_barplot.apply(lambda x: x['CAMIS'] / total_restaurants.loc[x['CUISINE DESCRIPTION']]['count'], axis=1)\n",
    "\n",
    "\n",
    "\n",
    "fig = px.bar(df_stacked_barplot, x='CUISINE DESCRIPTION', y='RATE', color='SCORE_GRADE', \n",
    "             color_discrete_map={\n",
    "                'A': '#636EFA',\n",
    "                'B': '#00CC96',\n",
    "                'C': '#FFA15A'\n",
    "             },\n",
    "             title='Grade distribution by cuisine')\n",
    "fig.show()"
   ]
  },
  {
   "cell_type": "markdown",
   "id": "00f4abfa",
   "metadata": {},
   "source": [
    "The bar plots above allow the reader to get information about the performance of different cuisines in a single glance. The first bar plot makes it easy to understand not only the number of grades given in each category, but also the relative size of each cuisine type compared to the others. The second plot is also very informative, illustrating the rate at which each cuisine type receives each grade. This way it becomes which types of restaurants have generally greater chances of being generally \"clean\" or not. The use of colors makes these plots very easy to read and therefore ideal for the visualization of this kind of data.\n",
    "\n"
   ]
  },
  {
   "cell_type": "code",
   "execution_count": null,
   "id": "14d89c2b",
   "metadata": {},
   "outputs": [],
   "source": [
    "# Get the count for each boro and year for closures\n",
    "boro_year = df_closures.groupby(['BORO', 'YEARMONTH'])['CAMIS'].count().reset_index()\n",
    "\n",
    "# Pivot the table to have one column per neighborhood\n",
    "df_pivot = boro_year.pivot(index='YEARMONTH', columns='BORO', values='CAMIS').fillna(0)\n",
    "\n",
    "# Get the count of total inspections for each boro and yearmonth\n",
    "total_restaurants = df_inspec_filtered.groupby(['BORO', 'YEARMONTH']).size().to_frame(name='count').reset_index()\n",
    "\n",
    "# Join the two dataframes on BORO and YEARMONTH\n",
    "merged_df = pd.merge(boro_year, total_restaurants, on=['BORO', 'YEARMONTH'])\n",
    "\n",
    "# Create a new dataframe with the rate of closures for each boro and yearmonth\n",
    "rate_df = merged_df.copy()\n",
    "rate_df['rate'] = rate_df['CAMIS'] / rate_df['count']\n",
    "\n",
    "# Pivot the table to have one column per neighborhood\n",
    "rate_pivot = rate_df.pivot(index='YEARMONTH', columns='BORO', values='rate').fillna(0)"
   ]
  },
  {
   "cell_type": "code",
   "execution_count": null,
   "id": "64819ae4",
   "metadata": {},
   "outputs": [],
   "source": [
    "from bokeh.models import ColumnDataSource, FactorRange, Legend\n",
    "from bokeh.plotting import figure#, show\n",
    "from bokeh.palettes import Category20 as Palette\n",
    "from bokeh.transform import factor_cmap\n",
    "from bokeh.io import output_file, show\n",
    "from math import pi\n",
    "\n",
    "#output_file(\"output/closure_rate.html\")\n",
    "\n",
    "source = ColumnDataSource(rate_pivot)\n",
    "boros = rate_pivot.columns.unique()\n",
    "\n",
    "p = figure(width=800, height=400, x_range=FactorRange(factors=rate_pivot.index.astype(str)),\n",
    "        title='Rate of Restaurant Closures by Borough and Year/Month',\n",
    "          x_axis_label='YEARMONTH', y_axis_label='Relative Frequency')\n",
    "\n",
    "bar = {}\n",
    "items = []\n",
    "colors = Palette[len(rate_pivot.columns)]\n",
    "\n",
    "for idx, i in enumerate(sorted(boros)):\n",
    "    bar[i] = p.vbar(x='YEARMONTH', top=i, source=source, color = colors[idx],\n",
    "                    muted_alpha=0.02, muted=True)\n",
    "    \n",
    "    items.append((i, [bar[i]]))\n",
    "\n",
    "legend = Legend(items=items)\n",
    "p.xaxis.major_label_orientation = pi/2\n",
    "p.add_layout(legend, 'left')\n",
    "p.legend.label_text_font_size = '7pt'\n",
    "    \n",
    "p.legend.click_policy=\"mute\" # click policy\n",
    "show(p) # display plot"
   ]
  },
  {
   "cell_type": "code",
   "execution_count": null,
   "id": "1f6b4b8b",
   "metadata": {
    "scrolled": true
   },
   "outputs": [],
   "source": [
    "import textwrap\n",
    "\n",
    "focusviolations = df_inspec_filtered.groupby('VIOLATION DESCRIPTION')['CAMIS'].count().sort_values(ascending=False)[:10].index\n",
    "\n",
    "# Define figure and axes for subplots\n",
    "nrows=len(focusviolations)//2\n",
    "\n",
    "fig, ax = plt.subplots(figsize=(10,15), nrows=nrows, ncols=2);\n",
    "fig.suptitle('Count per year/month by violation', fontsize=14)\n",
    "fig.supxlabel('year/month')\n",
    "\n",
    "for idx,val in enumerate(focusviolations):\n",
    "    \n",
    "    data = df_inspec_filtered[df_inspec_filtered['VIOLATION DESCRIPTION'] == val].groupby('YEARMONTH')['CAMIS'].count()\n",
    "    \n",
    "    r = idx//2\n",
    "    c = idx%2\n",
    "\n",
    "    ax[r][c].bar(data.index, data.values, color='purple', width=0.7)\n",
    "    \n",
    "    title_lines = textwrap.wrap(val, width=15)\n",
    "    title = '\\n'.join(title_lines)\n",
    "    ax[r][c].text(-0.5, 0.5, title, transform=ax[r][c].transAxes,\n",
    "                  horizontalalignment='left', verticalalignment='center',\n",
    "                  fontsize=7, fontweight='light')\n",
    "    plt.sca(ax[r][c])\n",
    "    plt.tick_params(axis='x', bottom=True, labelbottom=True, labelrotation=90, labelsize=7)\n",
    "    plt.ylabel(\"Count\")\n",
    "    \n",
    "fig.tight_layout()\n",
    "plt.show()"
   ]
  },
  {
   "cell_type": "markdown",
   "id": "929e18ed",
   "metadata": {},
   "source": [
    "The bar plots above illustrate the counts of each type of violation for each month in the investigated period. Again, they are successful in illustrating the huge drop in inspections during the quarantine and the resurgence the followed after it was over. In general, all the types of violations seem to follow the same pattern, corresponding with the total number of inspections performed, as it showed in the plot below."
   ]
  },
  {
   "cell_type": "code",
   "execution_count": null,
   "id": "2e0cc1d1",
   "metadata": {
    "scrolled": false
   },
   "outputs": [],
   "source": [
    "# All occurrences per year/month\n",
    "data = df_inspec_filtered.groupby('YEARMONTH')['CAMIS'].count()\n",
    "\n",
    "plt.bar(data.index, data.values, color='blue', width=0.7)\n",
    "plt.title('Occurrences per year/month')\n",
    "plt.xticks(rotation=90,fontsize=7)\n",
    "plt.show()"
   ]
  },
  {
   "cell_type": "markdown",
   "id": "a19e7ac9",
   "metadata": {},
   "source": [
    "## 6. Discussion. Think critically about your creation ##\n",
    "\n",
    "### 6.1 *What went well?* ###\n",
    "\n",
    "The dataset that was chosen ended up being very useful, as it contains a lot of usable and relevant information. Some data processing and cleaning was needed, but in general the dataset was of good quality and easy to work with. The subject in question is directly relevant to everyday life, and therefore may seem interesting to a lot of people, which is indicative of the value of any piece of information. The visualizations that were used were chosen after careful consideration in order to communicate the desired story as best as possible, and in general they are successful in doing so. The purpose of this project is to make a story about the restaurant scene of New York from the aspect of the restaurants' performance in terms of cleanliness and hygiene, so that the reader can get a clear picture of what is actually happening in NY and can use this information to make safe choices in the future. The end result is an informative and interactive article that we hope is as fun to the reader as it is to us!\n",
    "\n",
    "\n",
    "### 6.2 *What is still missing? What could be improved?, Why?*\n",
    "\n",
    "An interesting addition to the analysis would be a combination of the inspection dataset with data about the consumer's reviews on restaurants, and an investigation of how they might correlate. Another idea would be to look into the progression of inspection results in a longer time horizon, e.g. the last 30 years. This way we might find patterns about how inspecting strategies might have evolved through time, and even whether the restaurants themselves are operating better or worse than in the past.\n",
    "\n",
    "\n"
   ]
  },
  {
   "cell_type": "markdown",
   "id": "f51fedfb",
   "metadata": {},
   "source": [
    "## 7. Contributions. Who did what?"
   ]
  },
  {
   "cell_type": "markdown",
   "id": "047db9f1",
   "metadata": {},
   "source": [
    "For the greatest part of the assignment we worked together and as a group, keeping everyone involved in every part of the project. Initially we all contributed with suggestions to the discussion about choosing the dataset. After that, Georgios did the greatest part of Data exploration, loading, cleaning and basic barplots taking into account everyone's opinion. Laura took the lead in creating the interactive plots and maps and implemented everything in the website, while together with Charalampos decided which visuals would be part of the story. Charalampos developed the form of the narrative and the structure of the article. Then we all together created the final form of the notebook, making sure everyone's ideas are included and nothing is left out.\n",
    "\n",
    "|                                              | Charalampos | Georgios | Laura |\n",
    "|----------------------------------------------|-------------|----------|-------|\n",
    "| Data loading, cleaning and basic exploration | 15%         | 70%      | 15%   |\n",
    "| Basic barplots and calendar plots            | 15%         | 70%      | 15%   |\n",
    "| Interactive plots and maps                   | 15%         | 15%      | 70%   |\n",
    "| Website implementation                       | 15%         | 15%      | 70%   |\n",
    "| Background research and story telling        | 70%         | 15%      | 15%   |\n",
    "| Narrative and structure of the article       | 70%         | 15%      | 15%   |"
   ]
  }
 ],
 "metadata": {
  "kernelspec": {
   "display_name": "Python 3 (ipykernel)",
   "language": "python",
   "name": "python3"
  },
  "language_info": {
   "codemirror_mode": {
    "name": "ipython",
    "version": 3
   },
   "file_extension": ".py",
   "mimetype": "text/x-python",
   "name": "python",
   "nbconvert_exporter": "python",
   "pygments_lexer": "ipython3",
   "version": "3.9.16"
  }
 },
 "nbformat": 4,
 "nbformat_minor": 5
}
